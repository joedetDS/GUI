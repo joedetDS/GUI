{
 "cells": [
  {
   "cell_type": "code",
   "execution_count": 1,
   "id": "51fb1c2a",
   "metadata": {},
   "outputs": [],
   "source": [
    "import tkinter as tk\n",
    "\n",
    "#Function to mix colors\n",
    "def mix_color():\n",
    "    \n",
    "#Get color density entered by the user\n",
    "\tred=int(redScale.get())\n",
    "\tgreen=int(greenScale.get())\n",
    "\tblue=int(blueScale.get())\n",
    "\n",
    "#Convert color density from decimal to hexadecimal\n",
    "\tcolor=f\"#{red:02x}{green:02x}{blue:02x}\"\n",
    "\n",
    "#Configuration of bg color of window,labels,scales and button\n",
    "\troot.config(bg=color)\n",
    "\ttitleLabel.config(bg=color)\n",
    "\tredScale.config(bg=color)\n",
    "\tgreenScale.config(bg=color)\n",
    "\tblueScale.config(bg=color)\n",
    "\tmixButton.config(bg=color)    \n",
    "\n",
    "#Creating of window\n",
    "root=tk.Tk()\n",
    "\n",
    "#Rename window title\n",
    "root.title(\"Color Mixer\")\n",
    "\n",
    "titleLabel=tk.Label(root,width=25,text=\"COLOR MIXER\",height=2,font=('Verdana 30 bold'))\n",
    "titleLabel.pack(pady=(120,0))\n",
    "\n",
    "\n",
    "#creating label and scales widget\n",
    "redLabel=tk.Label(root,text=\"RED: \",bg='red',fg='white',font='Verdana 10 bold')\n",
    "redLabel.pack(pady=(30,0))\n",
    "redScale=tk.Scale(root,from_=0,to=255,orient=tk.HORIZONTAL,width=10)\n",
    "redScale.pack()\n",
    "\n",
    "greenLabel=tk.Label(root,text=\"GREEN: \",bg='green',fg='white',font='Verdana 10 bold')\n",
    "greenLabel.pack(pady=(30,0))\n",
    "greenScale=tk.Scale(root,from_=0,to=255,orient=tk.HORIZONTAL,width=10)\n",
    "greenScale.pack()\n",
    "\n",
    "blueLabel=tk.Label(root,text=\"BLUE: \",bg='blue',fg='white',font='Verdana 10 bold')\n",
    "blueLabel.pack(pady=(30,0))\n",
    "blueScale=tk.Scale(root,from_=0,to=255,orient=tk.HORIZONTAL,width=10)\n",
    "blueScale.pack()\n",
    "\n",
    "#Creating button widget\n",
    "mixButton=tk.Button(root,text=\"MIX COLORS\",command=mix_color,width=18,height=3,font='Verdana 10 bold')\n",
    "mixButton.pack(pady=(30,0))\n",
    "\n",
    "#End of program\n",
    "root.mainloop()\n"
   ]
  },
  {
   "cell_type": "code",
   "execution_count": null,
   "id": "1b202798",
   "metadata": {},
   "outputs": [],
   "source": []
  },
  {
   "cell_type": "code",
   "execution_count": null,
   "id": "c9007e80",
   "metadata": {},
   "outputs": [],
   "source": []
  }
 ],
 "metadata": {
  "kernelspec": {
   "display_name": "Python 3 (ipykernel)",
   "language": "python",
   "name": "python3"
  },
  "language_info": {
   "codemirror_mode": {
    "name": "ipython",
    "version": 3
   },
   "file_extension": ".py",
   "mimetype": "text/x-python",
   "name": "python",
   "nbconvert_exporter": "python",
   "pygments_lexer": "ipython3",
   "version": "3.9.7"
  }
 },
 "nbformat": 4,
 "nbformat_minor": 5
}
