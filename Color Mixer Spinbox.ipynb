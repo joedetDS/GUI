{
 "cells": [
  {
   "cell_type": "code",
   "execution_count": 3,
   "id": "8698ec2a",
   "metadata": {},
   "outputs": [],
   "source": [
    "import tkinter as tk\n",
    "\n",
    "def mix_color():\n",
    "\t\n",
    "\tred=int(redSpinbox.get())\n",
    "\tgreen=int(greenSpinbox.get())\n",
    "\tblue=int(blueSpinbox.get())\n",
    "    \n",
    "\tcolor=f\"#{red:02x}{green:02x}{blue:02x}\"\n",
    "    \n",
    "\troot.config(bg=color)\n",
    "\ttitleLabel.config(bg=color)\n",
    "\tredSpinbox.config(bg=color)\n",
    "\tgreenSpinbox.config(bg=color)\n",
    "\tblueSpinbox.config(bg=color)\n",
    "\tmix.config(bg=color)\n",
    "\tmix0.config(bg=color)\n",
    "\tmix1.config(bg=color)\n",
    "\tmix2.config(bg=color)\n",
    "\tmix3.config(bg=color,text=color)\n",
    "\tmixButton.config(bg=color)    \n",
    "\n",
    "root=tk.Tk()\n",
    "root.title(\"Color Mixer\")\n",
    "\n",
    "mix=tk.Label(root,height=12)\n",
    "mix.pack()\n",
    "\n",
    "\n",
    "titleLabel=tk.Label(root,width=25,text=\"COLOR MIXER\",height=2)\n",
    "titleLabel.pack()\n",
    "mix0=tk.Label(root,height=1)\n",
    "mix0.pack()\t\n",
    "\n",
    "redLabel=tk.Label(root,text=\"RED: \",bg='red',fg='white')\n",
    "redLabel.pack()\t\n",
    "redSpinbox=tk.Spinbox(root,from_=0,to=255,width=10)\n",
    "redSpinbox.pack()\n",
    "mix1=tk.Label(root,height=1)\n",
    "mix1.pack()\n",
    "\n",
    "greenLabel=tk.Label(root,text=\"GREEN: \",bg='green',fg='white')\n",
    "greenLabel.pack()\t\n",
    "greenSpinbox=tk.Spinbox(root,from_=0,to=255,width=10)\n",
    "greenSpinbox.pack()\n",
    "mix2=tk.Label(root,height=1)\n",
    "mix2.pack()\n",
    "\n",
    "blueLabel=tk.Label(root,text=\"BLUE: \",bg='blue',fg='white')\n",
    "blueLabel.pack()\t\n",
    "blueSpinbox=tk.Spinbox(root,from_=0,to=255,width=10)\n",
    "blueSpinbox.pack()\n",
    "mix3=tk.Label(root,height=1)\n",
    "mix3.pack()\n",
    "\n",
    "mixButton=tk.Button(root,text=\"MIX COLORS\",command=mix_color,width=18)\n",
    "mixButton.pack()\n",
    "\n",
    "root.mainloop()\n"
   ]
  },
  {
   "cell_type": "code",
   "execution_count": null,
   "id": "16294b7d",
   "metadata": {},
   "outputs": [],
   "source": []
  },
  {
   "cell_type": "code",
   "execution_count": null,
   "id": "1bef3f86",
   "metadata": {},
   "outputs": [],
   "source": []
  },
  {
   "cell_type": "code",
   "execution_count": null,
   "id": "73aa1d11",
   "metadata": {},
   "outputs": [],
   "source": []
  }
 ],
 "metadata": {
  "kernelspec": {
   "display_name": "Python 3 (ipykernel)",
   "language": "python",
   "name": "python3"
  },
  "language_info": {
   "codemirror_mode": {
    "name": "ipython",
    "version": 3
   },
   "file_extension": ".py",
   "mimetype": "text/x-python",
   "name": "python",
   "nbconvert_exporter": "python",
   "pygments_lexer": "ipython3",
   "version": "3.9.7"
  }
 },
 "nbformat": 4,
 "nbformat_minor": 5
}
